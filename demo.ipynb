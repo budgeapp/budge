{
 "cells": [
  {
   "cell_type": "code",
   "execution_count": 1,
   "metadata": {},
   "outputs": [
    {
     "data": {
      "text/plain": [
       "<stockholm.Money: \"1.00\">"
      ]
     },
     "execution_count": 1,
     "metadata": {},
     "output_type": "execute_result"
    }
   ],
   "source": [
    "from budge import Account, Transaction, RecurringTransaction\n",
    "from datetime import date\n",
    "from dateutil.rrule import rrule, MONTHLY\n",
    "from stockholm import Money\n",
    "\n",
    "rt1 = RecurringTransaction(rrule(freq=MONTHLY, bymonthday=1), Money(1), \"test 1\")\n",
    "rt2 = RecurringTransaction(rrule(freq=MONTHLY, bymonthday=15), Money(2), \"test 2\")\n",
    "t1 = Transaction(date(2024, 12, 1), Money(1), \"test 1\")\n",
    "acct = Account(\"test\", [t1], [rt1, rt2])\n",
    "acct.balance()"
   ]
  },
  {
   "cell_type": "code",
   "execution_count": 2,
   "metadata": {},
   "outputs": [
    {
     "name": "stdout",
     "output_type": "stream",
     "text": [
      "Transaction(date=datetime.date(2024, 12, 1), amount=<stockholm.Money: \"1.00\">, description='test 1', parent=None)\n",
      "Transaction(date=datetime.date(2024, 12, 15), amount=<stockholm.Money: \"2.00\">, description='test 2', parent=RecurringTransaction(rrule=<dateutil.rrule.rrule object at 0x1102e6490>, amount=<stockholm.Money: \"2.00\">, description='test 2'))\n",
      "Transaction(date=datetime.date(2025, 1, 1), amount=<stockholm.Money: \"1.00\">, description='test 1', parent=RecurringTransaction(rrule=<dateutil.rrule.rrule object at 0x1105cc980>, amount=<stockholm.Money: \"1.00\">, description='test 1'))\n",
      "Transaction(date=datetime.date(2025, 1, 15), amount=<stockholm.Money: \"2.00\">, description='test 2', parent=RecurringTransaction(rrule=<dateutil.rrule.rrule object at 0x1102e6490>, amount=<stockholm.Money: \"2.00\">, description='test 2'))\n",
      "Transaction(date=datetime.date(2025, 2, 1), amount=<stockholm.Money: \"1.00\">, description='test 1', parent=RecurringTransaction(rrule=<dateutil.rrule.rrule object at 0x1105cc980>, amount=<stockholm.Money: \"1.00\">, description='test 1'))\n",
      "Transaction(date=datetime.date(2025, 2, 15), amount=<stockholm.Money: \"2.00\">, description='test 2', parent=RecurringTransaction(rrule=<dateutil.rrule.rrule object at 0x1102e6490>, amount=<stockholm.Money: \"2.00\">, description='test 2'))\n",
      "Transaction(date=datetime.date(2025, 3, 1), amount=<stockholm.Money: \"1.00\">, description='test 1', parent=RecurringTransaction(rrule=<dateutil.rrule.rrule object at 0x1105cc980>, amount=<stockholm.Money: \"1.00\">, description='test 1'))\n",
      "Transaction(date=datetime.date(2025, 3, 15), amount=<stockholm.Money: \"2.00\">, description='test 2', parent=RecurringTransaction(rrule=<dateutil.rrule.rrule object at 0x1102e6490>, amount=<stockholm.Money: \"2.00\">, description='test 2'))\n",
      "Transaction(date=datetime.date(2025, 4, 1), amount=<stockholm.Money: \"1.00\">, description='test 1', parent=RecurringTransaction(rrule=<dateutil.rrule.rrule object at 0x1105cc980>, amount=<stockholm.Money: \"1.00\">, description='test 1'))\n",
      "Transaction(date=datetime.date(2025, 4, 15), amount=<stockholm.Money: \"2.00\">, description='test 2', parent=RecurringTransaction(rrule=<dateutil.rrule.rrule object at 0x1102e6490>, amount=<stockholm.Money: \"2.00\">, description='test 2'))\n",
      "Transaction(date=datetime.date(2025, 5, 1), amount=<stockholm.Money: \"1.00\">, description='test 1', parent=RecurringTransaction(rrule=<dateutil.rrule.rrule object at 0x1105cc980>, amount=<stockholm.Money: \"1.00\">, description='test 1'))\n",
      "Transaction(date=datetime.date(2025, 5, 15), amount=<stockholm.Money: \"2.00\">, description='test 2', parent=RecurringTransaction(rrule=<dateutil.rrule.rrule object at 0x1102e6490>, amount=<stockholm.Money: \"2.00\">, description='test 2'))\n",
      "Transaction(date=datetime.date(2025, 6, 1), amount=<stockholm.Money: \"1.00\">, description='test 1', parent=RecurringTransaction(rrule=<dateutil.rrule.rrule object at 0x1105cc980>, amount=<stockholm.Money: \"1.00\">, description='test 1'))\n",
      "Transaction(date=datetime.date(2025, 6, 15), amount=<stockholm.Money: \"2.00\">, description='test 2', parent=RecurringTransaction(rrule=<dateutil.rrule.rrule object at 0x1102e6490>, amount=<stockholm.Money: \"2.00\">, description='test 2'))\n",
      "Transaction(date=datetime.date(2025, 7, 1), amount=<stockholm.Money: \"1.00\">, description='test 1', parent=RecurringTransaction(rrule=<dateutil.rrule.rrule object at 0x1105cc980>, amount=<stockholm.Money: \"1.00\">, description='test 1'))\n",
      "Transaction(date=datetime.date(2025, 7, 15), amount=<stockholm.Money: \"2.00\">, description='test 2', parent=RecurringTransaction(rrule=<dateutil.rrule.rrule object at 0x1102e6490>, amount=<stockholm.Money: \"2.00\">, description='test 2'))\n",
      "Transaction(date=datetime.date(2025, 8, 1), amount=<stockholm.Money: \"1.00\">, description='test 1', parent=RecurringTransaction(rrule=<dateutil.rrule.rrule object at 0x1105cc980>, amount=<stockholm.Money: \"1.00\">, description='test 1'))\n",
      "Transaction(date=datetime.date(2025, 8, 15), amount=<stockholm.Money: \"2.00\">, description='test 2', parent=RecurringTransaction(rrule=<dateutil.rrule.rrule object at 0x1102e6490>, amount=<stockholm.Money: \"2.00\">, description='test 2'))\n",
      "Transaction(date=datetime.date(2025, 9, 1), amount=<stockholm.Money: \"1.00\">, description='test 1', parent=RecurringTransaction(rrule=<dateutil.rrule.rrule object at 0x1105cc980>, amount=<stockholm.Money: \"1.00\">, description='test 1'))\n",
      "Transaction(date=datetime.date(2025, 9, 15), amount=<stockholm.Money: \"2.00\">, description='test 2', parent=RecurringTransaction(rrule=<dateutil.rrule.rrule object at 0x1102e6490>, amount=<stockholm.Money: \"2.00\">, description='test 2'))\n",
      "Transaction(date=datetime.date(2025, 10, 1), amount=<stockholm.Money: \"1.00\">, description='test 1', parent=RecurringTransaction(rrule=<dateutil.rrule.rrule object at 0x1105cc980>, amount=<stockholm.Money: \"1.00\">, description='test 1'))\n",
      "Transaction(date=datetime.date(2025, 10, 15), amount=<stockholm.Money: \"2.00\">, description='test 2', parent=RecurringTransaction(rrule=<dateutil.rrule.rrule object at 0x1102e6490>, amount=<stockholm.Money: \"2.00\">, description='test 2'))\n",
      "Transaction(date=datetime.date(2025, 11, 1), amount=<stockholm.Money: \"1.00\">, description='test 1', parent=RecurringTransaction(rrule=<dateutil.rrule.rrule object at 0x1105cc980>, amount=<stockholm.Money: \"1.00\">, description='test 1'))\n",
      "Transaction(date=datetime.date(2025, 11, 15), amount=<stockholm.Money: \"2.00\">, description='test 2', parent=RecurringTransaction(rrule=<dateutil.rrule.rrule object at 0x1102e6490>, amount=<stockholm.Money: \"2.00\">, description='test 2'))\n",
      "Transaction(date=datetime.date(2025, 12, 1), amount=<stockholm.Money: \"1.00\">, description='test 1', parent=RecurringTransaction(rrule=<dateutil.rrule.rrule object at 0x1105cc980>, amount=<stockholm.Money: \"1.00\">, description='test 1'))\n"
     ]
    },
    {
     "data": {
      "text/plain": [
       "<stockholm.Money: \"37.00\">"
      ]
     },
     "execution_count": 2,
     "metadata": {},
     "output_type": "execute_result"
    }
   ],
   "source": [
    "from dateutil.relativedelta import relativedelta\n",
    "\n",
    "as_of = date.today() + relativedelta(years=1)\n",
    "\n",
    "for t in acct.until(as_of):\n",
    "    print(t)\n",
    "\n",
    "acct.balance(as_of)"
   ]
  }
 ],
 "metadata": {
  "kernelspec": {
   "display_name": ".venv",
   "language": "python",
   "name": "python3"
  },
  "language_info": {
   "codemirror_mode": {
    "name": "ipython",
    "version": 3
   },
   "file_extension": ".py",
   "mimetype": "text/x-python",
   "name": "python",
   "nbconvert_exporter": "python",
   "pygments_lexer": "ipython3",
   "version": "3.13.0"
  }
 },
 "nbformat": 4,
 "nbformat_minor": 2
}
